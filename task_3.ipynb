{
  "cells": [
    {
      "cell_type": "markdown",
      "metadata": {
        "id": "view-in-github",
        "colab_type": "text"
      },
      "source": [
        "<a href=\"https://colab.research.google.com/github/melikesifa/predictions/blob/main/task_3.ipynb\" target=\"_parent\"><img src=\"https://colab.research.google.com/assets/colab-badge.svg\" alt=\"Open In Colab\"/></a>"
      ]
    },
    {
      "cell_type": "markdown",
      "metadata": {
        "id": "CK5g05cvTYcg"
      },
      "source": [
        "## <font color='#475468'> Melbourne House Prices:</font>\n",
        "### <font color='#475468'> Can you leverage more columns in the data set for better predictions?</font>"
      ]
    },
    {
      "cell_type": "markdown",
      "metadata": {
        "id": "vcJSyUqtTYch"
      },
      "source": [
        "## Initialize"
      ]
    },
    {
      "cell_type": "code",
      "execution_count": 3,
      "metadata": {
        "id": "-S-sN02aTYch"
      },
      "outputs": [],
      "source": [
        "import pandas as pd\n",
        "import numpy as np\n",
        "\n",
        "import sklearn\n",
        "from sklearn.model_selection import train_test_split\n",
        "from sklearn.metrics import mean_absolute_error\n",
        "\n",
        "import warnings\n",
        "warnings.simplefilter(action='ignore', category=FutureWarning)"
      ]
    },
    {
      "cell_type": "markdown",
      "metadata": {
        "id": "jJtIOQYYTYcj"
      },
      "source": [
        "## Load Data"
      ]
    },
    {
      "cell_type": "code",
      "source": [
        "from google.colab import drive\n",
        "drive.mount('/content/drive')"
      ],
      "metadata": {
        "colab": {
          "base_uri": "https://localhost:8080/"
        },
        "id": "HE48nV2eT1EE",
        "outputId": "6876f175-d398-413d-ccb9-87bbe9ec7663"
      },
      "execution_count": 4,
      "outputs": [
        {
          "output_type": "stream",
          "name": "stdout",
          "text": [
            "Mounted at /content/drive\n"
          ]
        }
      ]
    },
    {
      "cell_type": "code",
      "execution_count": 5,
      "metadata": {
        "id": "FrYuRb53TYcj",
        "colab": {
          "base_uri": "https://localhost:8080/"
        },
        "outputId": "e8c8e181-cfab-446a-f9b0-8c1c9939cbb7"
      },
      "outputs": [
        {
          "output_type": "stream",
          "name": "stdout",
          "text": [
            "   User_ID Product_ID Gender   Age  Occupation City_Category  \\\n",
            "0  1000001  P00069042      F  0-17          10             A   \n",
            "1  1000001  P00248942      F  0-17          10             A   \n",
            "2  1000001  P00087842      F  0-17          10             A   \n",
            "3  1000001  P00085442      F  0-17          10             A   \n",
            "4  1000002  P00285442      M   55+          16             C   \n",
            "\n",
            "  Stay_In_Current_City_Years  Marital_Status  Product_Category_1  \\\n",
            "0                          2               0                   3   \n",
            "1                          2               0                   1   \n",
            "2                          2               0                  12   \n",
            "3                          2               0                  12   \n",
            "4                         4+               0                   8   \n",
            "\n",
            "   Product_Category_2  Product_Category_3  Purchase  \n",
            "0                 NaN                 NaN      8370  \n",
            "1                 6.0                14.0     15200  \n",
            "2                 NaN                 NaN      1422  \n",
            "3                14.0                 NaN      1057  \n",
            "4                 NaN                 NaN      7969  \n"
          ]
        }
      ],
      "source": [
        "df = pd.read_csv('/content/drive/MyDrive/Colab Notebooks/train.csv')\n",
        "\n",
        "print(df.head())"
      ]
    },
    {
      "cell_type": "code",
      "source": [
        "df.info()"
      ],
      "metadata": {
        "colab": {
          "base_uri": "https://localhost:8080/"
        },
        "id": "CAHAfNBD1OZx",
        "outputId": "988ad0eb-f0be-4499-bfd0-79a64741937b"
      },
      "execution_count": 6,
      "outputs": [
        {
          "output_type": "stream",
          "name": "stdout",
          "text": [
            "<class 'pandas.core.frame.DataFrame'>\n",
            "RangeIndex: 550068 entries, 0 to 550067\n",
            "Data columns (total 12 columns):\n",
            " #   Column                      Non-Null Count   Dtype  \n",
            "---  ------                      --------------   -----  \n",
            " 0   User_ID                     550068 non-null  int64  \n",
            " 1   Product_ID                  550068 non-null  object \n",
            " 2   Gender                      550068 non-null  object \n",
            " 3   Age                         550068 non-null  object \n",
            " 4   Occupation                  550068 non-null  int64  \n",
            " 5   City_Category               550068 non-null  object \n",
            " 6   Stay_In_Current_City_Years  550068 non-null  object \n",
            " 7   Marital_Status              550068 non-null  int64  \n",
            " 8   Product_Category_1          550068 non-null  int64  \n",
            " 9   Product_Category_2          376430 non-null  float64\n",
            " 10  Product_Category_3          166821 non-null  float64\n",
            " 11  Purchase                    550068 non-null  int64  \n",
            "dtypes: float64(2), int64(5), object(5)\n",
            "memory usage: 50.4+ MB\n"
          ]
        }
      ]
    },
    {
      "cell_type": "markdown",
      "source": [
        "There is too little data for catagory 3. So the predictions  for that catagory may not be totally accurate"
      ],
      "metadata": {
        "id": "i0yUMeRg1dGY"
      }
    },
    {
      "cell_type": "code",
      "source": [
        "# Select target as a series and features as dataframe\n",
        "y = df.loc[:,['Purchase']].values.ravel()\n",
        "X = df.drop(['Purchase'],axis=1)\n",
        "\n",
        "# Split into training and test sets\n",
        "X_train, X_test, y_train, y_test = train_test_split(X,y,train_size=0.8, test_size=0.2,random_state=1)"
      ],
      "metadata": {
        "id": "pq_c2YGDO1mT"
      },
      "execution_count": 7,
      "outputs": []
    },
    {
      "cell_type": "code",
      "source": [
        "import seaborn as sns\n",
        "import matplotlib.pyplot as plt\n",
        "sns.histplot(df['Purchase'], kde=True)\n",
        "plt.title('Purchase Distribution')\n",
        "plt.xlabel('Purchase Amount')\n",
        "plt.ylabel('Frequency')\n",
        "plt.show()\n"
      ],
      "metadata": {
        "colab": {
          "base_uri": "https://localhost:8080/",
          "height": 472
        },
        "id": "vsHKQOrKGpTQ",
        "outputId": "9b7329c2-b0be-4476-8b43-909c740906c0"
      },
      "execution_count": 28,
      "outputs": [
        {
          "output_type": "display_data",
          "data": {
            "text/plain": [
              "<Figure size 640x480 with 1 Axes>"
            ],
            "image/png": "[encoded data removed]"
          },
          "metadata": {}
        }
      ]
    },
    {
      "cell_type": "markdown",
      "source": [
        "It is multimodel. There are common purchase amounts that occur more frequently.\n"
      ],
      "metadata": {
        "id": "DgmMhxbRISW9"
      }
    },
    {
      "cell_type": "code",
      "source": [
        "sns.countplot(x='Age', data=df)\n",
        "plt.title('Count of Purchases by Age Group')\n",
        "plt.xlabel('Age Group')\n",
        "plt.ylabel('Count')\n",
        "plt.show()"
      ],
      "metadata": {
        "colab": {
          "base_uri": "https://localhost:8080/",
          "height": 472
        },
        "id": "xn1ii1V1JbxF",
        "outputId": "28373d1a-35c5-465d-e47e-33f04a130eb4"
      },
      "execution_count": 30,
      "outputs": [
        {
          "output_type": "display_data",
          "data": {
            "text/plain": [
              "<Figure size 640x480 with 1 Axes>"
            ],
            "image/png": "[encoded data removed]"
          },
          "metadata": {}
        }
      ]
    },
    {
      "cell_type": "markdown",
      "metadata": {
        "id": "0MLj10mCTYck"
      },
      "source": [
        "## Build Random Forest Model"
      ]
    },
    {
      "cell_type": "code",
      "execution_count": 8,
      "metadata": {
        "id": "D9bfik4UTYcl"
      },
      "outputs": [],
      "source": [
        "from sklearn.ensemble import RandomForestRegressor\n",
        "\n",
        "# Function for building and scoring Random Forest models\n",
        "def get_random_forest_mae(X_trn, X_tst, y_trn, y_tst):\n",
        "    mdlRfs = RandomForestRegressor(random_state=1)\n",
        "    mdlRfs.fit(X_trn, y_trn)\n",
        "    y_tst_prd = mdlRfs.predict(X_tst)\n",
        "    mae = mean_absolute_error(y_tst, y_tst_prd)\n",
        "    return (mae)"
      ]
    },
    {
      "cell_type": "code",
      "execution_count": 9,
      "metadata": {
        "id": "gvWGLyT6TYco"
      },
      "outputs": [],
      "source": [
        "# Select numeric features\n",
        "cols_num = [col for col in X.columns if X[col].dtype in ['int64', 'float64']]\n",
        "Xnum = X[cols_num]\n",
        "\n",
        "# Split numeric features into training and test sets\n",
        "Xnum_train, Xnum_test, y_train, y_test = train_test_split(Xnum,y,train_size=0.8, test_size=0.2,random_state=1)"
      ]
    },
    {
      "cell_type": "code",
      "execution_count": 10,
      "metadata": {
        "colab": {
          "base_uri": "https://localhost:8080/"
        },
        "id": "n_nfNKM5TYcp",
        "outputId": "bebdba07-1802-46f8-e5c4-e4a6e2c5fa2e"
      },
      "outputs": [
        {
          "output_type": "execute_result",
          "data": {
            "text/plain": [
              "User_ID                    0\n",
              "Occupation                 0\n",
              "Marital_Status             0\n",
              "Product_Category_1         0\n",
              "Product_Category_2    138892\n",
              "Product_Category_3    306504\n",
              "dtype: int64"
            ]
          },
          "metadata": {},
          "execution_count": 10
        }
      ],
      "source": [
        "# Count number of missing values in each column of the training data\n",
        "Xnum_train.isna().sum()"
      ]
    },
    {
      "cell_type": "code",
      "execution_count": 11,
      "metadata": {
        "id": "7O4Y7-RRTYcq"
      },
      "outputs": [],
      "source": [
        "# Identify columns with missing values and then drop such columns\n",
        "cols_num_null = [col for col in Xnum_train.columns\n",
        "    if Xnum_train[col].isnull().any()]\n",
        "Xnum_train_drpnull = Xnum_train.drop(cols_num_null, axis=1)\n",
        "Xnum_test_drpnull = Xnum_test.drop(cols_num_null, axis=1)"
      ]
    },
    {
      "cell_type": "code",
      "execution_count": 12,
      "metadata": {
        "colab": {
          "base_uri": "https://localhost:8080/"
        },
        "id": "SwYsEf2uTYcq",
        "outputId": "95c2fc6b-d38a-4353-ad7e-6846ada56dc3"
      },
      "outputs": [
        {
          "output_type": "stream",
          "name": "stdout",
          "text": [
            "MAE from Approach 1 (Drop features with missing values):\n",
            "2091.2402741391948\n"
          ]
        }
      ],
      "source": [
        "print('MAE from Approach 1 (Drop features with missing values):')\n",
        "print(get_random_forest_mae(Xnum_train_drpnull, Xnum_test_drpnull, y_train, y_test))"
      ]
    },
    {
      "cell_type": "markdown",
      "metadata": {
        "id": "6BWmX-EiTYcr"
      },
      "source": []
    },
    {
      "cell_type": "markdown",
      "metadata": {
        "id": "BVx-x7dETYcs"
      },
      "source": [
        "## Non-numerical Features"
      ]
    },
    {
      "cell_type": "markdown",
      "metadata": {
        "id": "UVoCjzEnTYcs"
      },
      "source": [
        "We have already seen the error generated by non-numeric features, but let's try to convert them to numeric values so that they can be used in the model."
      ]
    },
    {
      "cell_type": "code",
      "execution_count": 13,
      "metadata": {
        "id": "H8gI88RnTYcs"
      },
      "outputs": [],
      "source": [
        "cols_obj = [col for col in X_train.columns if X_train[col].dtype == 'object']\n",
        "\n",
        "# Append 'Other' to each categorical column in the training data before fitting the encoder\n",
        "for col in cols_obj:\n",
        "    extended_col = pd.concat([X_train[col], pd.Series(['Other'])])  # Append 'Other'\n",
        "    label_encoder = LabelEncoder()\n",
        "    label_encoder.fit(extended_col)  # Fit including 'Other'\n",
        "\n",
        "    # Now transform the train and test datasets\n",
        "    X_train[col] = label_encoder.transform(X_train[col])\n",
        "\n",
        "    # Replace unseen categories in the test set with 'Other' and transform\n",
        "    X_test[col] = X_test[col].apply(lambda x: x if x in label_encoder.classes_ else 'Other')\n",
        "    X_test[col] = label_encoder.transform(X_test[col])"
      ]
    },
    {
      "cell_type": "code",
      "execution_count": 14,
      "metadata": {
        "colab": {
          "base_uri": "https://localhost:8080/"
        },
        "id": "pps6rbdLTYct",
        "outputId": "4ba84eba-ec72-4126-cdd2-26ece2e5072d"
      },
      "outputs": [
        {
          "output_type": "stream",
          "name": "stdout",
          "text": [
            "Transformed training data sample:\n",
            "        Product_ID  Gender  Age  City_Category  Stay_In_Current_City_Years\n",
            "529969        2890       1    1              1                           1\n",
            "489075        2281       1    3              2                           1\n",
            "60693         1068       1    1              0                           0\n",
            "381752        1365       1    2              1                           3\n",
            "141968        1970       1    2              0                           0\n",
            "\n",
            "Transformed testing data sample:\n",
            "        Product_ID  Gender  Age  City_Category  Stay_In_Current_City_Years\n",
            "470060          25       1    2              2                           0\n",
            "395974          34       1    5              0                           2\n",
            "14234         1095       0    1              0                           3\n",
            "72183         1657       1    2              1                           1\n",
            "272536        1970       0    2              0                           0\n"
          ]
        }
      ],
      "source": [
        "print(\"Transformed training data sample:\")\n",
        "print(X_train[cols_obj].head())\n",
        "\n",
        "print(\"\\nTransformed testing data sample:\")\n",
        "print(X_test[cols_obj].head())"
      ]
    },
    {
      "cell_type": "markdown",
      "metadata": {
        "id": "_JhfH2IyTYct"
      },
      "source": [
        "There are too many values to be label encoded.  So, we would need to take only those non-numeric features with low cardinality aka **Categorical features**."
      ]
    },
    {
      "cell_type": "code",
      "execution_count": 15,
      "metadata": {
        "colab": {
          "base_uri": "https://localhost:8080/"
        },
        "id": "315c2Fl3TYct",
        "outputId": "13024a20-2084-4f90-dedd-c306000a4148"
      },
      "outputs": [
        {
          "output_type": "execute_result",
          "data": {
            "text/plain": [
              "['Gender', 'Age', 'City_Category', 'Stay_In_Current_City_Years']"
            ]
          },
          "metadata": {},
          "execution_count": 15
        }
      ],
      "source": [
        "# Select categorical features\n",
        "cols_cat = [col for col in X.columns if X[col].dtype == 'object' and X[col].nunique()<10]\n",
        "cols_cat"
      ]
    },
    {
      "cell_type": "code",
      "execution_count": 16,
      "metadata": {
        "id": "6PalB_d2TYct"
      },
      "outputs": [],
      "source": [
        "# Label encoding on only categorical features\n",
        "from sklearn.preprocessing import LabelEncoder\n",
        "\n",
        "Xle_train = X_train.copy()\n",
        "Xle_test = X_test.copy()\n",
        "# Apply label encoder to each column with categorical data\n",
        "label_encoder = LabelEncoder()\n",
        "for col in cols_cat:\n",
        "    Xle_train[col] = label_encoder.fit_transform(X_train[col])\n",
        "    Xle_test[col] = label_encoder.transform(X_test[col])"
      ]
    },
    {
      "cell_type": "code",
      "source": [
        "Xle_train['Product_Category_2'].fillna(-1, inplace=True)\n",
        "Xle_train['Product_Category_3'].fillna(-1, inplace=True)\n",
        "Xle_test['Product_Category_2'].fillna(-1, inplace=True)\n",
        "Xle_test['Product_Category_3'].fillna(-1, inplace=True)"
      ],
      "metadata": {
        "id": "Bjp_g5PVBbR0"
      },
      "execution_count": 22,
      "outputs": []
    },
    {
      "cell_type": "markdown",
      "source": [
        "I had to remove NaN inputs. Otherwise it wasnt possible to get random forest model results."
      ],
      "metadata": {
        "id": "6R87zAwuFSzv"
      }
    },
    {
      "cell_type": "code",
      "execution_count": 23,
      "metadata": {
        "colab": {
          "base_uri": "https://localhost:8080/"
        },
        "id": "RQQzDMTbTYcu",
        "outputId": "57ae99ec-0e11-4457-93b7-1b4b28bbbe71"
      },
      "outputs": [
        {
          "output_type": "stream",
          "name": "stdout",
          "text": [
            "MAE from Label Encoding all Categorical columns:\n",
            "2155.664667014182\n"
          ]
        }
      ],
      "source": [
        "# Encode and Build/Score using all Categorical columns\n",
        "\n",
        "mae = get_random_forest_mae(Xle_train[cols_num + cols_cat], Xle_test[cols_num + cols_cat], y_train, y_test)\n",
        "print(\"MAE from Label Encoding all Categorical columns:\")\n",
        "print(mae)"
      ]
    },
    {
      "cell_type": "markdown",
      "metadata": {
        "id": "psR4LWVyTYcu"
      },
      "source": [
        "So, by including the Categorical features, the MAE is further reduced to to \\$166K (which translates to 15% off a mean price of \\$1.1M), which is by far the best result."
      ]
    },
    {
      "cell_type": "markdown",
      "metadata": {
        "id": "ZDjRnoD3TYcu"
      },
      "source": [
        "## Build Gradient Boosted Tree Model"
      ]
    },
    {
      "cell_type": "code",
      "execution_count": 24,
      "metadata": {
        "colab": {
          "base_uri": "https://localhost:8080/"
        },
        "id": "knA_nKxPTYcv",
        "outputId": "ace1b75d-d080-4617-cafc-acb57b107cc3"
      },
      "outputs": [
        {
          "output_type": "stream",
          "name": "stdout",
          "text": [
            "MAE from default XGBoost model:\n",
            "2088.5694435910577\n"
          ]
        }
      ],
      "source": [
        "from xgboost import XGBRegressor\n",
        "\n",
        "#Build and score default Gradient Boosting Model\n",
        "mdlXgbMlb = XGBRegressor()\n",
        "mdlXgbMlb.fit(Xle_train[cols_num + cols_cat], y_train)\n",
        "y_test_pred = mdlXgbMlb.predict(Xle_test[cols_num + cols_cat])\n",
        "mae = mean_absolute_error(y_test_pred, y_test)\n",
        "\n",
        "print(\"MAE from default XGBoost model:\")\n",
        "print(mae)"
      ]
    },
    {
      "cell_type": "code",
      "execution_count": 25,
      "metadata": {
        "colab": {
          "base_uri": "https://localhost:8080/"
        },
        "id": "2PMaQ_H1TYcv",
        "outputId": "ba9ebcd0-2bdd-4f10-d09e-f1b6a2ef806d"
      },
      "outputs": [
        {
          "output_type": "stream",
          "name": "stdout",
          "text": [
            "MAE from tuned XGBoost model:\n",
            "2097.5185122484345\n"
          ]
        }
      ],
      "source": [
        "#Build and score a tuned Gradient Boosting Model\n",
        "mdlXgbMlb = XGBRegressor(n_estimators=5000, learning_rate=0.01, max_depth=5)\n",
        "mdlXgbMlb.fit(Xle_train[cols_num + cols_cat], y_train)\n",
        "y_test_pred = mdlXgbMlb.predict(Xle_test[cols_num + cols_cat])\n",
        "mae = mean_absolute_error(y_test_pred, y_test)\n",
        "\n",
        "print(\"MAE from tuned XGBoost model:\")\n",
        "print(mae)"
      ]
    }
  ],
  "metadata": {
    "kernelspec": {
      "display_name": "Python 3",
      "language": "python",
      "name": "python3"
    },
    "language_info": {
      "codemirror_mode": {
        "name": "ipython",
        "version": 3
      },
      "file_extension": ".py",
      "mimetype": "text/x-python",
      "name": "python",
      "nbconvert_exporter": "python",
      "pygments_lexer": "ipython3",
      "version": "3.7.1"
    },
    "colab": {
      "provenance": [],
      "include_colab_link": true
    }
  },
  "nbformat": 4,
  "nbformat_minor": 0
}